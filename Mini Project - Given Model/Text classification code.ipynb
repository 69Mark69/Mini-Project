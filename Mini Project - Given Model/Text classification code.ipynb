{
 "cells": [
  {
   "cell_type": "code",
   "execution_count": 1,
   "metadata": {
    "colab": {
     "base_uri": "https://localhost:8080/"
    },
    "executionInfo": {
     "elapsed": 7596,
     "status": "ok",
     "timestamp": 1695123106431,
     "user": {
      "displayName": "nagendra matta",
      "userId": "08799621731279141356"
     },
     "user_tz": -330
    },
    "id": "zDA3rgDS-f4A",
    "outputId": "9169aa8b-c1da-4676-8b1e-0f6594b07b20"
   },
   "outputs": [
    {
     "name": "stderr",
     "output_type": "stream",
     "text": [
      "[nltk_data] Downloading package stopwords to\n",
      "[nltk_data]     C:\\Users\\markp\\AppData\\Roaming\\nltk_data...\n",
      "[nltk_data]   Package stopwords is already up-to-date!\n"
     ]
    },
    {
     "data": {
      "text/plain": [
       "True"
      ]
     },
     "execution_count": 1,
     "metadata": {},
     "output_type": "execute_result"
    }
   ],
   "source": [
    "import numpy as np\n",
    "import pandas as pd\n",
    "\n",
    "\n",
    "import seaborn as sns\n",
    "import matplotlib.pyplot as plt\n",
    "\n",
    "import re\n",
    "import string\n",
    "\n",
    "import nltk\n",
    "from nltk.corpus import stopwords\n",
    "from nltk.stem import PorterStemmer\n",
    "from nltk.tokenize import TweetTokenizer\n",
    "\n",
    "from keras.models import Sequential\n",
    "from keras.layers import Dense,Dropout\n",
    "from keras.optimizers import Adam\n",
    "\n",
    "from sklearn.metrics import accuracy_score, precision_score, recall_score, f1_score\n",
    "from sklearn.metrics import roc_curve, roc_auc_score, confusion_matrix\n",
    "\n",
    "nltk.download('stopwords')"
   ]
  },
  {
   "cell_type": "code",
   "execution_count": 2,
   "metadata": {
    "executionInfo": {
     "elapsed": 369,
     "status": "ok",
     "timestamp": 1695123651018,
     "user": {
      "displayName": "nagendra matta",
      "userId": "08799621731279141356"
     },
     "user_tz": -330
    },
    "id": "mTyEDze2MBi4"
   },
   "outputs": [],
   "source": [
    "#Train dataset\n",
    "train_set = pd.read_csv(\"Corona_NLP_train.csv\",encoding=\"latin-1\")\n",
    "train_set_Copy = train_set.copy()\n",
    "\n",
    "#test dataset\n",
    "test_set=pd.read_csv('Corona_NLP_test.csv')\n",
    "test_set_Copy = train_set.copy()"
   ]
  },
  {
   "cell_type": "code",
   "execution_count": 3,
   "metadata": {
    "colab": {
     "base_uri": "https://localhost:8080/",
     "height": 206
    },
    "executionInfo": {
     "elapsed": 8,
     "status": "ok",
     "timestamp": 1695123656056,
     "user": {
      "displayName": "nagendra matta",
      "userId": "08799621731279141356"
     },
     "user_tz": -330
    },
    "id": "VMeMbbeuMBle",
    "outputId": "1deff76f-f008-45d0-8882-6ccb19959fc5"
   },
   "outputs": [
    {
     "data": {
      "text/html": [
       "<div>\n",
       "<style scoped>\n",
       "    .dataframe tbody tr th:only-of-type {\n",
       "        vertical-align: middle;\n",
       "    }\n",
       "\n",
       "    .dataframe tbody tr th {\n",
       "        vertical-align: top;\n",
       "    }\n",
       "\n",
       "    .dataframe thead th {\n",
       "        text-align: right;\n",
       "    }\n",
       "</style>\n",
       "<table border=\"1\" class=\"dataframe\">\n",
       "  <thead>\n",
       "    <tr style=\"text-align: right;\">\n",
       "      <th></th>\n",
       "      <th>UserName</th>\n",
       "      <th>ScreenName</th>\n",
       "      <th>Location</th>\n",
       "      <th>TweetAt</th>\n",
       "      <th>OriginalTweet</th>\n",
       "      <th>Sentiment</th>\n",
       "    </tr>\n",
       "  </thead>\n",
       "  <tbody>\n",
       "    <tr>\n",
       "      <th>0</th>\n",
       "      <td>3799</td>\n",
       "      <td>48751</td>\n",
       "      <td>London</td>\n",
       "      <td>16-03-2020</td>\n",
       "      <td>@MeNyrbie @Phil_Gahan @Chrisitv https://t.co/i...</td>\n",
       "      <td>Neutral</td>\n",
       "    </tr>\n",
       "    <tr>\n",
       "      <th>1</th>\n",
       "      <td>3800</td>\n",
       "      <td>48752</td>\n",
       "      <td>UK</td>\n",
       "      <td>16-03-2020</td>\n",
       "      <td>advice Talk to your neighbours family to excha...</td>\n",
       "      <td>Positive</td>\n",
       "    </tr>\n",
       "    <tr>\n",
       "      <th>2</th>\n",
       "      <td>3801</td>\n",
       "      <td>48753</td>\n",
       "      <td>Vagabonds</td>\n",
       "      <td>16-03-2020</td>\n",
       "      <td>Coronavirus Australia: Woolworths to give elde...</td>\n",
       "      <td>Positive</td>\n",
       "    </tr>\n",
       "    <tr>\n",
       "      <th>3</th>\n",
       "      <td>3802</td>\n",
       "      <td>48754</td>\n",
       "      <td>NaN</td>\n",
       "      <td>16-03-2020</td>\n",
       "      <td>My food stock is not the only one which is emp...</td>\n",
       "      <td>Positive</td>\n",
       "    </tr>\n",
       "    <tr>\n",
       "      <th>4</th>\n",
       "      <td>3803</td>\n",
       "      <td>48755</td>\n",
       "      <td>NaN</td>\n",
       "      <td>16-03-2020</td>\n",
       "      <td>Me, ready to go at supermarket during the #COV...</td>\n",
       "      <td>Extremely Negative</td>\n",
       "    </tr>\n",
       "  </tbody>\n",
       "</table>\n",
       "</div>"
      ],
      "text/plain": [
       "   UserName  ScreenName   Location     TweetAt  \\\n",
       "0      3799       48751     London  16-03-2020   \n",
       "1      3800       48752         UK  16-03-2020   \n",
       "2      3801       48753  Vagabonds  16-03-2020   \n",
       "3      3802       48754        NaN  16-03-2020   \n",
       "4      3803       48755        NaN  16-03-2020   \n",
       "\n",
       "                                       OriginalTweet           Sentiment  \n",
       "0  @MeNyrbie @Phil_Gahan @Chrisitv https://t.co/i...             Neutral  \n",
       "1  advice Talk to your neighbours family to excha...            Positive  \n",
       "2  Coronavirus Australia: Woolworths to give elde...            Positive  \n",
       "3  My food stock is not the only one which is emp...            Positive  \n",
       "4  Me, ready to go at supermarket during the #COV...  Extremely Negative  "
      ]
     },
     "execution_count": 3,
     "metadata": {},
     "output_type": "execute_result"
    }
   ],
   "source": [
    "train_set.head()"
   ]
  },
  {
   "cell_type": "code",
   "execution_count": 4,
   "metadata": {
    "colab": {
     "base_uri": "https://localhost:8080/",
     "height": 293
    },
    "executionInfo": {
     "elapsed": 14,
     "status": "ok",
     "timestamp": 1695123658392,
     "user": {
      "displayName": "nagendra matta",
      "userId": "08799621731279141356"
     },
     "user_tz": -330
    },
    "id": "Vk-kObIyMBoP",
    "outputId": "f77f0cf4-08fe-4f33-b8c6-a2dd1df7430b"
   },
   "outputs": [
    {
     "data": {
      "text/html": [
       "<div>\n",
       "<style scoped>\n",
       "    .dataframe tbody tr th:only-of-type {\n",
       "        vertical-align: middle;\n",
       "    }\n",
       "\n",
       "    .dataframe tbody tr th {\n",
       "        vertical-align: top;\n",
       "    }\n",
       "\n",
       "    .dataframe thead th {\n",
       "        text-align: right;\n",
       "    }\n",
       "</style>\n",
       "<table border=\"1\" class=\"dataframe\">\n",
       "  <thead>\n",
       "    <tr style=\"text-align: right;\">\n",
       "      <th></th>\n",
       "      <th>UserName</th>\n",
       "      <th>ScreenName</th>\n",
       "      <th>Location</th>\n",
       "      <th>TweetAt</th>\n",
       "      <th>OriginalTweet</th>\n",
       "      <th>Sentiment</th>\n",
       "    </tr>\n",
       "  </thead>\n",
       "  <tbody>\n",
       "    <tr>\n",
       "      <th>0</th>\n",
       "      <td>1</td>\n",
       "      <td>44953</td>\n",
       "      <td>NYC</td>\n",
       "      <td>02-03-2020</td>\n",
       "      <td>TRENDING: New Yorkers encounter empty supermar...</td>\n",
       "      <td>Extremely Negative</td>\n",
       "    </tr>\n",
       "    <tr>\n",
       "      <th>1</th>\n",
       "      <td>2</td>\n",
       "      <td>44954</td>\n",
       "      <td>Seattle, WA</td>\n",
       "      <td>02-03-2020</td>\n",
       "      <td>When I couldn't find hand sanitizer at Fred Me...</td>\n",
       "      <td>Positive</td>\n",
       "    </tr>\n",
       "    <tr>\n",
       "      <th>2</th>\n",
       "      <td>3</td>\n",
       "      <td>44955</td>\n",
       "      <td>NaN</td>\n",
       "      <td>02-03-2020</td>\n",
       "      <td>Find out how you can protect yourself and love...</td>\n",
       "      <td>Extremely Positive</td>\n",
       "    </tr>\n",
       "    <tr>\n",
       "      <th>3</th>\n",
       "      <td>4</td>\n",
       "      <td>44956</td>\n",
       "      <td>Chicagoland</td>\n",
       "      <td>02-03-2020</td>\n",
       "      <td>#Panic buying hits #NewYork City as anxious sh...</td>\n",
       "      <td>Negative</td>\n",
       "    </tr>\n",
       "    <tr>\n",
       "      <th>4</th>\n",
       "      <td>5</td>\n",
       "      <td>44957</td>\n",
       "      <td>Melbourne, Victoria</td>\n",
       "      <td>03-03-2020</td>\n",
       "      <td>#toiletpaper #dunnypaper #coronavirus #coronav...</td>\n",
       "      <td>Neutral</td>\n",
       "    </tr>\n",
       "  </tbody>\n",
       "</table>\n",
       "</div>"
      ],
      "text/plain": [
       "   UserName  ScreenName             Location     TweetAt  \\\n",
       "0         1       44953                  NYC  02-03-2020   \n",
       "1         2       44954          Seattle, WA  02-03-2020   \n",
       "2         3       44955                  NaN  02-03-2020   \n",
       "3         4       44956          Chicagoland  02-03-2020   \n",
       "4         5       44957  Melbourne, Victoria  03-03-2020   \n",
       "\n",
       "                                       OriginalTweet           Sentiment  \n",
       "0  TRENDING: New Yorkers encounter empty supermar...  Extremely Negative  \n",
       "1  When I couldn't find hand sanitizer at Fred Me...            Positive  \n",
       "2  Find out how you can protect yourself and love...  Extremely Positive  \n",
       "3  #Panic buying hits #NewYork City as anxious sh...            Negative  \n",
       "4  #toiletpaper #dunnypaper #coronavirus #coronav...             Neutral  "
      ]
     },
     "execution_count": 4,
     "metadata": {},
     "output_type": "execute_result"
    }
   ],
   "source": [
    "test_set.head()"
   ]
  },
  {
   "cell_type": "code",
   "execution_count": 5,
   "metadata": {
    "colab": {
     "base_uri": "https://localhost:8080/"
    },
    "executionInfo": {
     "elapsed": 8,
     "status": "ok",
     "timestamp": 1695123660463,
     "user": {
      "displayName": "nagendra matta",
      "userId": "08799621731279141356"
     },
     "user_tz": -330
    },
    "id": "SrA8tmU9MBq2",
    "outputId": "ee787de4-dbfe-4358-9577-9603d1c8367c"
   },
   "outputs": [
    {
     "name": "stdout",
     "output_type": "stream",
     "text": [
      "    Train dataset info: \n",
      "\n",
      "<class 'pandas.core.frame.DataFrame'>\n",
      "RangeIndex: 41157 entries, 0 to 41156\n",
      "Data columns (total 6 columns):\n",
      " #   Column         Non-Null Count  Dtype \n",
      "---  ------         --------------  ----- \n",
      " 0   UserName       41157 non-null  int64 \n",
      " 1   ScreenName     41157 non-null  int64 \n",
      " 2   Location       32567 non-null  object\n",
      " 3   TweetAt        41157 non-null  object\n",
      " 4   OriginalTweet  41157 non-null  object\n",
      " 5   Sentiment      41157 non-null  object\n",
      "dtypes: int64(2), object(4)\n",
      "memory usage: 1.9+ MB\n",
      "---------------------------\n",
      "\n",
      "    Test dataset info: \n",
      "\n",
      "<class 'pandas.core.frame.DataFrame'>\n",
      "RangeIndex: 3798 entries, 0 to 3797\n",
      "Data columns (total 6 columns):\n",
      " #   Column         Non-Null Count  Dtype \n",
      "---  ------         --------------  ----- \n",
      " 0   UserName       3798 non-null   int64 \n",
      " 1   ScreenName     3798 non-null   int64 \n",
      " 2   Location       2964 non-null   object\n",
      " 3   TweetAt        3798 non-null   object\n",
      " 4   OriginalTweet  3798 non-null   object\n",
      " 5   Sentiment      3798 non-null   object\n",
      "dtypes: int64(2), object(4)\n",
      "memory usage: 178.2+ KB\n"
     ]
    }
   ],
   "source": [
    "print(\"    Train dataset info: \\n\")\n",
    "train_set.info()\n",
    "\n",
    "print(\"---------------------------\\n\\n    Test dataset info: \\n\")\n",
    "test_set.info()"
   ]
  },
  {
   "cell_type": "code",
   "execution_count": 6,
   "metadata": {
    "colab": {
     "base_uri": "https://localhost:8080/"
    },
    "executionInfo": {
     "elapsed": 4,
     "status": "ok",
     "timestamp": 1695123661878,
     "user": {
      "displayName": "nagendra matta",
      "userId": "08799621731279141356"
     },
     "user_tz": -330
    },
    "id": "v-aMK01PMBtl",
    "outputId": "a45cdec5-5296-4b3b-d595-edf6b8bb33b7"
   },
   "outputs": [
    {
     "name": "stdout",
     "output_type": "stream",
     "text": [
      "There are 0 duplicate rows in the DataFrame.\n"
     ]
    }
   ],
   "source": [
    "# count the number of duplicate rows\n",
    "num_duplicates = train_set.duplicated().sum()\n",
    "\n",
    "print(f\"There are {num_duplicates} duplicate rows in the DataFrame.\")"
   ]
  },
  {
   "cell_type": "code",
   "execution_count": 7,
   "metadata": {
    "colab": {
     "base_uri": "https://localhost:8080/",
     "height": 206
    },
    "executionInfo": {
     "elapsed": 5,
     "status": "ok",
     "timestamp": 1695123663486,
     "user": {
      "displayName": "nagendra matta",
      "userId": "08799621731279141356"
     },
     "user_tz": -330
    },
    "id": "u8l-nb5WMBwc",
    "outputId": "7e92f21c-cdc2-4718-c8b1-b019ec158b25"
   },
   "outputs": [
    {
     "data": {
      "text/html": [
       "<div>\n",
       "<style scoped>\n",
       "    .dataframe tbody tr th:only-of-type {\n",
       "        vertical-align: middle;\n",
       "    }\n",
       "\n",
       "    .dataframe tbody tr th {\n",
       "        vertical-align: top;\n",
       "    }\n",
       "\n",
       "    .dataframe thead th {\n",
       "        text-align: right;\n",
       "    }\n",
       "</style>\n",
       "<table border=\"1\" class=\"dataframe\">\n",
       "  <thead>\n",
       "    <tr style=\"text-align: right;\">\n",
       "      <th></th>\n",
       "      <th>Location</th>\n",
       "      <th>TweetAt</th>\n",
       "      <th>OriginalTweet</th>\n",
       "      <th>Sentiment</th>\n",
       "    </tr>\n",
       "  </thead>\n",
       "  <tbody>\n",
       "    <tr>\n",
       "      <th>0</th>\n",
       "      <td>London</td>\n",
       "      <td>16-03-2020</td>\n",
       "      <td>@MeNyrbie @Phil_Gahan @Chrisitv https://t.co/i...</td>\n",
       "      <td>Neutral</td>\n",
       "    </tr>\n",
       "    <tr>\n",
       "      <th>1</th>\n",
       "      <td>UK</td>\n",
       "      <td>16-03-2020</td>\n",
       "      <td>advice Talk to your neighbours family to excha...</td>\n",
       "      <td>Positive</td>\n",
       "    </tr>\n",
       "    <tr>\n",
       "      <th>2</th>\n",
       "      <td>Vagabonds</td>\n",
       "      <td>16-03-2020</td>\n",
       "      <td>Coronavirus Australia: Woolworths to give elde...</td>\n",
       "      <td>Positive</td>\n",
       "    </tr>\n",
       "    <tr>\n",
       "      <th>3</th>\n",
       "      <td>NaN</td>\n",
       "      <td>16-03-2020</td>\n",
       "      <td>My food stock is not the only one which is emp...</td>\n",
       "      <td>Positive</td>\n",
       "    </tr>\n",
       "    <tr>\n",
       "      <th>4</th>\n",
       "      <td>NaN</td>\n",
       "      <td>16-03-2020</td>\n",
       "      <td>Me, ready to go at supermarket during the #COV...</td>\n",
       "      <td>Extremely Negative</td>\n",
       "    </tr>\n",
       "  </tbody>\n",
       "</table>\n",
       "</div>"
      ],
      "text/plain": [
       "    Location     TweetAt                                      OriginalTweet  \\\n",
       "0     London  16-03-2020  @MeNyrbie @Phil_Gahan @Chrisitv https://t.co/i...   \n",
       "1         UK  16-03-2020  advice Talk to your neighbours family to excha...   \n",
       "2  Vagabonds  16-03-2020  Coronavirus Australia: Woolworths to give elde...   \n",
       "3        NaN  16-03-2020  My food stock is not the only one which is emp...   \n",
       "4        NaN  16-03-2020  Me, ready to go at supermarket during the #COV...   \n",
       "\n",
       "            Sentiment  \n",
       "0             Neutral  \n",
       "1            Positive  \n",
       "2            Positive  \n",
       "3            Positive  \n",
       "4  Extremely Negative  "
      ]
     },
     "execution_count": 7,
     "metadata": {},
     "output_type": "execute_result"
    }
   ],
   "source": [
    "train_set = train_set.loc[:, ['Location', 'TweetAt', 'OriginalTweet','Sentiment']]\n",
    "train_set.head()"
   ]
  },
  {
   "cell_type": "code",
   "execution_count": 8,
   "metadata": {
    "colab": {
     "base_uri": "https://localhost:8080/",
     "height": 634
    },
    "executionInfo": {
     "elapsed": 802,
     "status": "ok",
     "timestamp": 1695123666946,
     "user": {
      "displayName": "nagendra matta",
      "userId": "08799621731279141356"
     },
     "user_tz": -330
    },
    "id": "cYTg7p00MBzM",
    "outputId": "7f98e8a3-9998-4517-c5ce-2c879d49b3a0"
   },
   "outputs": [
    {
     "ename": "ValueError",
     "evalue": "'Location' is both an index level and a column label, which is ambiguous.",
     "output_type": "error",
     "traceback": [
      "\u001b[1;31m---------------------------------------------------------------------------\u001b[0m",
      "\u001b[1;31mValueError\u001b[0m                                Traceback (most recent call last)",
      "\u001b[1;32m~\\AppData\\Local\\Temp\\ipykernel_2948\\758575933.py\u001b[0m in \u001b[0;36m?\u001b[1;34m()\u001b[0m\n\u001b[0;32m      2\u001b[0m unique_value_counts = pd.DataFrame({\n\u001b[0;32m      3\u001b[0m     'Location': train_set['Location'].value_counts()})\n\u001b[0;32m      4\u001b[0m \u001b[1;33m\u001b[0m\u001b[0m\n\u001b[0;32m      5\u001b[0m \u001b[1;31m# Sort by descending frequency\u001b[0m\u001b[1;33m\u001b[0m\u001b[1;33m\u001b[0m\u001b[0m\n\u001b[1;32m----> 6\u001b[1;33m \u001b[0munique_value_counts\u001b[0m \u001b[1;33m=\u001b[0m \u001b[0munique_value_counts\u001b[0m\u001b[1;33m.\u001b[0m\u001b[0msort_values\u001b[0m\u001b[1;33m(\u001b[0m\u001b[0mby\u001b[0m\u001b[1;33m=\u001b[0m\u001b[1;33m[\u001b[0m\u001b[1;34m'Location'\u001b[0m\u001b[1;33m]\u001b[0m\u001b[1;33m,\u001b[0m \u001b[0mascending\u001b[0m\u001b[1;33m=\u001b[0m\u001b[1;32mFalse\u001b[0m\u001b[1;33m)\u001b[0m\u001b[1;33m\u001b[0m\u001b[1;33m\u001b[0m\u001b[0m\n\u001b[0m\u001b[0;32m      7\u001b[0m \u001b[1;33m\u001b[0m\u001b[0m\n\u001b[0;32m      8\u001b[0m \u001b[1;31m# Create bar chart of top 20 frequent values in the Location column\u001b[0m\u001b[1;33m\u001b[0m\u001b[1;33m\u001b[0m\u001b[0m\n\u001b[0;32m      9\u001b[0m \u001b[0mtop_20\u001b[0m \u001b[1;33m=\u001b[0m \u001b[0munique_value_counts\u001b[0m\u001b[1;33m.\u001b[0m\u001b[0mhead\u001b[0m\u001b[1;33m(\u001b[0m\u001b[1;36m20\u001b[0m\u001b[1;33m)\u001b[0m\u001b[1;33m\u001b[0m\u001b[1;33m\u001b[0m\u001b[0m\n",
      "\u001b[1;32m~\\anaconda3\\Lib\\site-packages\\pandas\\core\\frame.py\u001b[0m in \u001b[0;36m?\u001b[1;34m(self, by, axis, ascending, inplace, kind, na_position, ignore_index, key)\u001b[0m\n\u001b[0;32m   6754\u001b[0m         \u001b[1;32melif\u001b[0m \u001b[0mlen\u001b[0m\u001b[1;33m(\u001b[0m\u001b[0mby\u001b[0m\u001b[1;33m)\u001b[0m\u001b[1;33m:\u001b[0m\u001b[1;33m\u001b[0m\u001b[1;33m\u001b[0m\u001b[0m\n\u001b[0;32m   6755\u001b[0m             \u001b[1;31m# len(by) == 1\u001b[0m\u001b[1;33m\u001b[0m\u001b[1;33m\u001b[0m\u001b[0m\n\u001b[0;32m   6756\u001b[0m \u001b[1;33m\u001b[0m\u001b[0m\n\u001b[0;32m   6757\u001b[0m             \u001b[0mby\u001b[0m \u001b[1;33m=\u001b[0m \u001b[0mby\u001b[0m\u001b[1;33m[\u001b[0m\u001b[1;36m0\u001b[0m\u001b[1;33m]\u001b[0m\u001b[1;33m\u001b[0m\u001b[1;33m\u001b[0m\u001b[0m\n\u001b[1;32m-> 6758\u001b[1;33m             \u001b[0mk\u001b[0m \u001b[1;33m=\u001b[0m \u001b[0mself\u001b[0m\u001b[1;33m.\u001b[0m\u001b[0m_get_label_or_level_values\u001b[0m\u001b[1;33m(\u001b[0m\u001b[0mby\u001b[0m\u001b[1;33m,\u001b[0m \u001b[0maxis\u001b[0m\u001b[1;33m=\u001b[0m\u001b[0maxis\u001b[0m\u001b[1;33m)\u001b[0m\u001b[1;33m\u001b[0m\u001b[1;33m\u001b[0m\u001b[0m\n\u001b[0m\u001b[0;32m   6759\u001b[0m \u001b[1;33m\u001b[0m\u001b[0m\n\u001b[0;32m   6760\u001b[0m             \u001b[1;31m# need to rewrap column in Series to apply key function\u001b[0m\u001b[1;33m\u001b[0m\u001b[1;33m\u001b[0m\u001b[0m\n\u001b[0;32m   6761\u001b[0m             \u001b[1;32mif\u001b[0m \u001b[0mkey\u001b[0m \u001b[1;32mis\u001b[0m \u001b[1;32mnot\u001b[0m \u001b[1;32mNone\u001b[0m\u001b[1;33m:\u001b[0m\u001b[1;33m\u001b[0m\u001b[1;33m\u001b[0m\u001b[0m\n",
      "\u001b[1;32m~\\anaconda3\\Lib\\site-packages\\pandas\\core\\generic.py\u001b[0m in \u001b[0;36m?\u001b[1;34m(self, key, axis)\u001b[0m\n\u001b[0;32m   1769\u001b[0m         \u001b[0maxis\u001b[0m \u001b[1;33m=\u001b[0m \u001b[0mself\u001b[0m\u001b[1;33m.\u001b[0m\u001b[0m_get_axis_number\u001b[0m\u001b[1;33m(\u001b[0m\u001b[0maxis\u001b[0m\u001b[1;33m)\u001b[0m\u001b[1;33m\u001b[0m\u001b[1;33m\u001b[0m\u001b[0m\n\u001b[0;32m   1770\u001b[0m         \u001b[0mother_axes\u001b[0m \u001b[1;33m=\u001b[0m \u001b[1;33m[\u001b[0m\u001b[0max\u001b[0m \u001b[1;32mfor\u001b[0m \u001b[0max\u001b[0m \u001b[1;32min\u001b[0m \u001b[0mrange\u001b[0m\u001b[1;33m(\u001b[0m\u001b[0mself\u001b[0m\u001b[1;33m.\u001b[0m\u001b[0m_AXIS_LEN\u001b[0m\u001b[1;33m)\u001b[0m \u001b[1;32mif\u001b[0m \u001b[0max\u001b[0m \u001b[1;33m!=\u001b[0m \u001b[0maxis\u001b[0m\u001b[1;33m]\u001b[0m\u001b[1;33m\u001b[0m\u001b[1;33m\u001b[0m\u001b[0m\n\u001b[0;32m   1771\u001b[0m \u001b[1;33m\u001b[0m\u001b[0m\n\u001b[0;32m   1772\u001b[0m         \u001b[1;32mif\u001b[0m \u001b[0mself\u001b[0m\u001b[1;33m.\u001b[0m\u001b[0m_is_label_reference\u001b[0m\u001b[1;33m(\u001b[0m\u001b[0mkey\u001b[0m\u001b[1;33m,\u001b[0m \u001b[0maxis\u001b[0m\u001b[1;33m=\u001b[0m\u001b[0maxis\u001b[0m\u001b[1;33m)\u001b[0m\u001b[1;33m:\u001b[0m\u001b[1;33m\u001b[0m\u001b[1;33m\u001b[0m\u001b[0m\n\u001b[1;32m-> 1773\u001b[1;33m             \u001b[0mself\u001b[0m\u001b[1;33m.\u001b[0m\u001b[0m_check_label_or_level_ambiguity\u001b[0m\u001b[1;33m(\u001b[0m\u001b[0mkey\u001b[0m\u001b[1;33m,\u001b[0m \u001b[0maxis\u001b[0m\u001b[1;33m=\u001b[0m\u001b[0maxis\u001b[0m\u001b[1;33m)\u001b[0m\u001b[1;33m\u001b[0m\u001b[1;33m\u001b[0m\u001b[0m\n\u001b[0m\u001b[0;32m   1774\u001b[0m             \u001b[0mvalues\u001b[0m \u001b[1;33m=\u001b[0m \u001b[0mself\u001b[0m\u001b[1;33m.\u001b[0m\u001b[0mxs\u001b[0m\u001b[1;33m(\u001b[0m\u001b[0mkey\u001b[0m\u001b[1;33m,\u001b[0m \u001b[0maxis\u001b[0m\u001b[1;33m=\u001b[0m\u001b[0mother_axes\u001b[0m\u001b[1;33m[\u001b[0m\u001b[1;36m0\u001b[0m\u001b[1;33m]\u001b[0m\u001b[1;33m)\u001b[0m\u001b[1;33m.\u001b[0m\u001b[0m_values\u001b[0m\u001b[1;33m\u001b[0m\u001b[1;33m\u001b[0m\u001b[0m\n\u001b[0;32m   1775\u001b[0m         \u001b[1;32melif\u001b[0m \u001b[0mself\u001b[0m\u001b[1;33m.\u001b[0m\u001b[0m_is_level_reference\u001b[0m\u001b[1;33m(\u001b[0m\u001b[0mkey\u001b[0m\u001b[1;33m,\u001b[0m \u001b[0maxis\u001b[0m\u001b[1;33m=\u001b[0m\u001b[0maxis\u001b[0m\u001b[1;33m)\u001b[0m\u001b[1;33m:\u001b[0m\u001b[1;33m\u001b[0m\u001b[1;33m\u001b[0m\u001b[0m\n\u001b[0;32m   1776\u001b[0m             \u001b[0mvalues\u001b[0m \u001b[1;33m=\u001b[0m \u001b[0mself\u001b[0m\u001b[1;33m.\u001b[0m\u001b[0maxes\u001b[0m\u001b[1;33m[\u001b[0m\u001b[0maxis\u001b[0m\u001b[1;33m]\u001b[0m\u001b[1;33m.\u001b[0m\u001b[0mget_level_values\u001b[0m\u001b[1;33m(\u001b[0m\u001b[0mkey\u001b[0m\u001b[1;33m)\u001b[0m\u001b[1;33m.\u001b[0m\u001b[0m_values\u001b[0m\u001b[1;33m\u001b[0m\u001b[1;33m\u001b[0m\u001b[0m\n",
      "\u001b[1;32m~\\anaconda3\\Lib\\site-packages\\pandas\\core\\generic.py\u001b[0m in \u001b[0;36m?\u001b[1;34m(self, key, axis)\u001b[0m\n\u001b[0;32m   1731\u001b[0m             msg = (\n\u001b[0;32m   1732\u001b[0m                 \u001b[1;34mf\"'{key}' is both {level_article} {level_type} level and \"\u001b[0m\u001b[1;33m\u001b[0m\u001b[1;33m\u001b[0m\u001b[0m\n\u001b[0;32m   1733\u001b[0m                 \u001b[1;34mf\"{label_article} {label_type} label, which is ambiguous.\"\u001b[0m\u001b[1;33m\u001b[0m\u001b[1;33m\u001b[0m\u001b[0m\n\u001b[0;32m   1734\u001b[0m             )\n\u001b[1;32m-> 1735\u001b[1;33m             \u001b[1;32mraise\u001b[0m \u001b[0mValueError\u001b[0m\u001b[1;33m(\u001b[0m\u001b[0mmsg\u001b[0m\u001b[1;33m)\u001b[0m\u001b[1;33m\u001b[0m\u001b[1;33m\u001b[0m\u001b[0m\n\u001b[0m",
      "\u001b[1;31mValueError\u001b[0m: 'Location' is both an index level and a column label, which is ambiguous."
     ]
    }
   ],
   "source": [
    "# Find unique values and their frequencies in the Location column\n",
    "unique_value_counts = pd.DataFrame({\n",
    "    'Location': train_set['Location'].value_counts()})\n",
    "\n",
    "# Sort by descending frequency\n",
    "unique_value_counts = unique_value_counts.sort_values(by=['Location'], ascending=False)\n",
    "\n",
    "# Create bar chart of top 20 frequent values in the Location column\n",
    "top_20 = unique_value_counts.head(20)\n",
    "top_20.plot.bar(rot=45, figsize=(12, 6), align='edge')  # Rotate x-axis labels by 45 degrees\n",
    "plt.title(\"Top 20 Tweet Locations by Frequency\")\n",
    "plt.show()"
   ]
  },
  {
   "cell_type": "code",
   "execution_count": null,
   "metadata": {
    "colab": {
     "base_uri": "https://localhost:8080/",
     "height": 657
    },
    "executionInfo": {
     "elapsed": 1308,
     "status": "ok",
     "timestamp": 1695123670010,
     "user": {
      "displayName": "nagendra matta",
      "userId": "08799621731279141356"
     },
     "user_tz": -330
    },
    "id": "Ncpx8_PIMB1z",
    "outputId": "7285e547-5ffb-4ddf-bc6a-922919b875c3"
   },
   "outputs": [],
   "source": [
    "# define the order of the sentiment categories\n",
    "sentiment_order = [\"Extremely Negative\", \"Negative\", \"Neutral\", \"Positive\", \"Extremely Positive\"]\n",
    "\n",
    "# create a color palette from red to green\n",
    "colors = sns.color_palette(\"RdYlGn\", len(sentiment_order))\n",
    "\n",
    "# set the color map for the barplot\n",
    "color_map = dict(zip(sentiment_order, colors))\n",
    "\n",
    "# count the number of instances for each sentiment category\n",
    "sentiment_counts = train_set[\"Sentiment\"].value_counts()\n",
    "\n",
    "# create a figure and axis object\n",
    "fig, ax = plt.subplots(figsize=(10, 6))\n",
    "\n",
    "# create a bar plot using seaborn with the desired order and color map\n",
    "sns.set(style=\"darkgrid\")\n",
    "sns.barplot(x=sentiment_counts.index, y=sentiment_counts.values, order=sentiment_order, ax=ax, palette=color_map)\n",
    "\n",
    "# set plot title and axis labels\n",
    "ax.set_title(\"Sentiment Distribution in Train Set\")\n",
    "ax.set_xlabel(\"Sentiment Category\")\n",
    "ax.set_ylabel(\"Number of Tweets\")\n",
    "\n",
    "# rotate x-axis labels\n",
    "ax.tick_params(axis='x', rotation=45)\n",
    "\n",
    "plt.show()"
   ]
  },
  {
   "cell_type": "code",
   "execution_count": null,
   "metadata": {
    "executionInfo": {
     "elapsed": 5,
     "status": "ok",
     "timestamp": 1695123672030,
     "user": {
      "displayName": "nagendra matta",
      "userId": "08799621731279141356"
     },
     "user_tz": -330
    },
    "id": "ZW4Mur4AOUq9"
   },
   "outputs": [],
   "source": [
    "def choosingcol(df):\n",
    "    new_df=df.loc[:, ['OriginalTweet', 'Sentiment']]\n",
    "    return new_df\n",
    "\n",
    "#------------------------------------------------------------------\n",
    "def reducing_sentiment(df):\n",
    "    df = df.loc[df['Sentiment'] != 'Neutral']\n",
    "\n",
    "    # replace extremely positive and extremely negative with positive and negative, respectively\n",
    "    df['Sentiment'] = df['Sentiment'].replace({'Extremely Positive': 'Positive', 'Extremely Negative': 'Negative'})\n",
    "\n",
    "    return df\n",
    "#-----------------------------------------------------------------\n",
    "def converting_tonumeric(df):\n",
    "    sentiment_dict = {'Positive': 1, 'Negative': 0}\n",
    "    df['Sentiment'] = df['Sentiment'].replace(sentiment_dict)\n",
    "    return df"
   ]
  },
  {
   "cell_type": "code",
   "execution_count": null,
   "metadata": {
    "colab": {
     "base_uri": "https://localhost:8080/",
     "height": 548
    },
    "executionInfo": {
     "elapsed": 630,
     "status": "ok",
     "timestamp": 1695123674406,
     "user": {
      "displayName": "nagendra matta",
      "userId": "08799621731279141356"
     },
     "user_tz": -330
    },
    "id": "S-a2CQHAOU1d",
    "outputId": "fd7d9284-b08c-4c36-a17f-67fccdf31e61"
   },
   "outputs": [],
   "source": [
    "# Using functions to make train_set ready\n",
    "train_set = choosingcol(train_set)\n",
    "train_set = reducing_sentiment(train_set)\n",
    "train_set = converting_tonumeric(train_set)\n",
    "train_set = train_set.reset_index(drop=True)\n",
    "train_set"
   ]
  },
  {
   "cell_type": "code",
   "execution_count": null,
   "metadata": {
    "colab": {
     "base_uri": "https://localhost:8080/",
     "height": 444
    },
    "executionInfo": {
     "elapsed": 12,
     "status": "ok",
     "timestamp": 1695123676261,
     "user": {
      "displayName": "nagendra matta",
      "userId": "08799621731279141356"
     },
     "user_tz": -330
    },
    "id": "rB62TBvwOU4z",
    "outputId": "e9fab637-d9fc-4747-fde4-441016dfd1e9"
   },
   "outputs": [],
   "source": [
    "# Count the number of occurrences of each sentiment value\n",
    "sentiment_counts = train_set[\"Sentiment\"].value_counts()\n",
    "\n",
    "# Create a pie chart\n",
    "labels = [ 'Positive','Negative']\n",
    "colors = [(1, 0, 0, 0.5), (0, 1, 0, 0.5)]\n",
    "\n",
    "plt.figure(figsize=(5, 5))\n",
    "plt.pie(sentiment_counts, labels=labels, colors=colors, autopct='%1.1f%%')\n",
    "\n",
    "plt.title('Sentiment Distribution')\n",
    "plt.show()"
   ]
  },
  {
   "cell_type": "code",
   "execution_count": null,
   "metadata": {
    "executionInfo": {
     "elapsed": 3,
     "status": "ok",
     "timestamp": 1695123677634,
     "user": {
      "displayName": "nagendra matta",
      "userId": "08799621731279141356"
     },
     "user_tz": -330
    },
    "id": "cPLhUL4GOU75"
   },
   "outputs": [],
   "source": [
    "contractions_dict = {\n",
    "    \"ain't\": \"am not / are not / is not / has not / have not\",\n",
    "    \"aren't\": \"are not\",\n",
    "    \"can't\": \"cannot\",\n",
    "    \"could've\": \"could have\",\n",
    "    \"couldn't\": \"could not\",\n",
    "    \"didn't\": \"did not\",\n",
    "    \"doesn't\": \"does not\",\n",
    "    \"don't\": \"do not\",\n",
    "    \"hadn't\": \"had not\",\n",
    "    \"hasn't\": \"has not\",\n",
    "    \"haven't\": \"have not\",\n",
    "    \"he'd\": \"he had / he would\",\n",
    "    \"he'll\": \"he shall / he will\",\n",
    "    \"he's\": \"he is\",\n",
    "    \"I'd\": \"I had / I would\",\n",
    "    \"I'll\": \"I shall / I will\",\n",
    "    \"I'm\": \"I am\",\n",
    "    \"I've\": \"I have\",\n",
    "    \"isn't\": \"is not\",\n",
    "    \"it'd\": \"it had / it would\",\n",
    "    \"it'll\": \"it shall / it will\",\n",
    "    \"it's\": \"it is\",\n",
    "    \"let's\": \"let us\",\n",
    "    \"might've\": \"might have\",\n",
    "    \"mightn't\": \"might not\",\n",
    "    \"must've\": \"must have\",\n",
    "    \"mustn't\": \"must not\",\n",
    "    \"shan't\": \"shall not\",\n",
    "    \"she'd\": \"she had / she would\",\n",
    "    \"she'll\": \"she shall / she will\",\n",
    "    \"she's\": \"she is\",\n",
    "    \"should've\": \"should have\",\n",
    "    \"shouldn't\": \"should not\",\n",
    "    \"that's\": \"that is\",\n",
    "    \"there's\": \"there is\",\n",
    "    \"they'd\": \"they had / they would\",\n",
    "    \"they'll\": \"they shall / they will\",\n",
    "    \"they're\": \"they are\",\n",
    "    \"they've\": \"they have\",\n",
    "    \"wasn't\": \"was not\",\n",
    "    \"we'd\": \"we had / we would\",\n",
    "    \"we'll\": \"we shall / we will\",\n",
    "    \"we're\": \"we are\",\n",
    "    \"we've\": \"we have\",\n",
    "    \"weren't\": \"were not\",\n",
    "    \"what'll\": \"what shall / what will\",\n",
    "    \"what're\": \"what are\",\n",
    "    \"what's\": \"what is\",\n",
    "    \"what've\": \"what have\",\n",
    "    \"where's\": \"where is\",\n",
    "    \"who'd\": \"who had / who would\",\n",
    "    \"who'll\": \"who shall / who will\",\n",
    "    \"who're\": \"who are\",\n",
    "    \"who's\": \"who is\",\n",
    "    \"who've\": \"who have\",\n",
    "    \"won't\": \"will not\",\n",
    "    \"would've\": \"would have\",\n",
    "    \"wouldn't\": \"would not\",\n",
    "    \"you'd\": \"you had / you would\",\n",
    "    \"you'll\": \"you shall / you will\",\n",
    "    \"you're\": \"you are\",\n",
    "    \"you've\": \"you have\"\n",
    "}"
   ]
  },
  {
   "cell_type": "code",
   "execution_count": null,
   "metadata": {
    "executionInfo": {
     "elapsed": 3,
     "status": "ok",
     "timestamp": 1695123679040,
     "user": {
      "displayName": "nagendra matta",
      "userId": "08799621731279141356"
     },
     "user_tz": -330
    },
    "id": "A_4OMBniMB43"
   },
   "outputs": [],
   "source": [
    "def cleaning_with_re(tweet):\n",
    "    tweet = re.sub(r'^RT[\\s]+', '', tweet)\n",
    "\n",
    "    # remove hyperlinks\n",
    "    tweet = re.sub(r'https?://(?:www\\.[^\\s\\n\\r]+|[^\\s\\n\\r]+)', '', tweet)\n",
    "\n",
    "    # remove hashtag (#)\n",
    "    tweet = re.sub(r'#', '', tweet)\n",
    "\n",
    "    #replaces newline (\\n) and carriage return (\\r) characters in a tweet with an empty string\n",
    "    tweet = re.sub(r'[\\n\\r]', '', tweet)\n",
    "\n",
    "    #replaces the numbers with an empty string\n",
    "    tweet = re.sub(r'\\d+', '', tweet)\n",
    "\n",
    "    return tweet\n",
    "\n",
    "#----------------------------------------------------------------\n",
    "def expanding_words(tweet):\n",
    "\n",
    "    words = tweet.split()\n",
    "    expanded_words = []\n",
    "    for word in words:\n",
    "        if word.lower() in contractions_dict:\n",
    "            expanded_words.extend(contractions_dict[word.lower()].split(\"/\"))\n",
    "        else:\n",
    "            expanded_words.append(word)\n",
    "    return \" \".join(expanded_words)\n",
    "\n",
    "#----------------------------------------------------------------\n",
    "def tokenizing(tweet):\n",
    "\n",
    "    stopwords_english = stopwords.words('english')\n",
    "    tokenizer = TweetTokenizer(preserve_case=False, strip_handles=True,reduce_len=True)\n",
    "    new_tweet = tokenizer.tokenize(tweet)\n",
    "\n",
    "    clean_tweet=[]\n",
    "\n",
    "    for word in new_tweet: # Going through every word in tokens list\n",
    "        if (word not in stopwords_english and word not in string.punctuation):  # remove punctuation and stopwords\n",
    "            clean_tweet.append(word)\n",
    "\n",
    "    return clean_tweet\n",
    "\n",
    "#----------------------------------------------------------------\n",
    "def stemming(tweet):\n",
    "    # Instantiate stemming class\n",
    "    stemmer = PorterStemmer()\n",
    "\n",
    "    # Create an empty list to store the stems\n",
    "    stemmed_tweets = []\n",
    "\n",
    "    for word in tweet:\n",
    "        stem_word = stemmer.stem(word)  # stemming word\n",
    "        stemmed_tweets.append(stem_word)  # append to the list\n",
    "\n",
    "    return stemmed_tweets"
   ]
  },
  {
   "cell_type": "code",
   "execution_count": null,
   "metadata": {
    "executionInfo": {
     "elapsed": 5,
     "status": "ok",
     "timestamp": 1695123680357,
     "user": {
      "displayName": "nagendra matta",
      "userId": "08799621731279141356"
     },
     "user_tz": -330
    },
    "id": "8vUwWVkXOqLK"
   },
   "outputs": [],
   "source": [
    "def preprocessing(tweet):\n",
    "\n",
    "    tweet=cleaning_with_re(tweet)\n",
    "    tweet=expanding_words(tweet)\n",
    "    tweet=tokenizing(tweet)\n",
    "    tweet=stemming(tweet)\n",
    "\n",
    "    return tweet"
   ]
  },
  {
   "cell_type": "code",
   "execution_count": null,
   "metadata": {
    "executionInfo": {
     "elapsed": 6,
     "status": "ok",
     "timestamp": 1695123681863,
     "user": {
      "displayName": "nagendra matta",
      "userId": "08799621731279141356"
     },
     "user_tz": -330
    },
    "id": "AtxlRFstOqOF"
   },
   "outputs": [],
   "source": [
    "def build_freqs(listoftweets, labels):\n",
    "\n",
    "    labelslist = np.squeeze(labels).tolist()\n",
    "\n",
    "    # Start with an empty dictionary and populate it by looping over all tweets and all the words in them\n",
    "    freqs = {}\n",
    "    for y, tweet in zip(labels, listoftweets):\n",
    "        t=preprocessing(tweet)\n",
    "        for word in t:\n",
    "            pair = (word, y)\n",
    "            if pair in freqs:\n",
    "                freqs[pair] += 1\n",
    "            else:\n",
    "                freqs[pair] = 1\n",
    "\n",
    "    # Calculate the sum of frequencies for each word\n",
    "    word_sums = {}\n",
    "    for (word, y), count in freqs.items():\n",
    "        if word in word_sums:\n",
    "            word_sums[word] += count\n",
    "        else:\n",
    "            word_sums[word] = count\n",
    "\n",
    "    # Divide each key of word and class by the sum\n",
    "    for (word, y), count in freqs.items():\n",
    "        freqs[(word, y)] /= word_sums[word]\n",
    "\n",
    "    return freqs\n",
    "\n",
    "#------------------------------------------------------------------\n",
    "def extract_features(tweet, freqs, preprocessing=preprocessing):\n",
    "\n",
    "    # process_tweet tokenizes, stems, and removes stopwords\n",
    "    word_list = preprocessing(tweet)\n",
    "\n",
    "    # 2 elements for [ positive, negative] counts\n",
    "    features = np.zeros(2)\n",
    "\n",
    "    # loop through each word in the list of words\n",
    "    for word in word_list:\n",
    "\n",
    "        # increment the word count for the positive label 1\n",
    "        features[0] += freqs.get((word, 1.0),0)\n",
    "\n",
    "        # increment the word count for the negative label 0\n",
    "        features[1] += freqs.get((word, 0),0)\n",
    "\n",
    "    features = features[None, :]\n",
    "    assert(features.shape == (1, 2))\n",
    "    return features"
   ]
  },
  {
   "cell_type": "code",
   "execution_count": null,
   "metadata": {
    "colab": {
     "base_uri": "https://localhost:8080/"
    },
    "executionInfo": {
     "elapsed": 36288,
     "status": "ok",
     "timestamp": 1695123719716,
     "user": {
      "displayName": "nagendra matta",
      "userId": "08799621731279141356"
     },
     "user_tz": -330
    },
    "id": "m4Q5K9e6OqRV",
    "outputId": "912df65f-25fd-472b-dfed-914faf2cb773"
   },
   "outputs": [],
   "source": [
    "%%time\n",
    "word_frequencies=build_freqs(train_set['OriginalTweet'].tolist(), train_set['Sentiment'].tolist())"
   ]
  },
  {
   "cell_type": "code",
   "execution_count": null,
   "metadata": {
    "colab": {
     "base_uri": "https://localhost:8080/"
    },
    "executionInfo": {
     "elapsed": 39831,
     "status": "ok",
     "timestamp": 1695123762438,
     "user": {
      "displayName": "nagendra matta",
      "userId": "08799621731279141356"
     },
     "user_tz": -330
    },
    "id": "sUXlRDHUOqT9",
    "outputId": "d051a131-f03a-433c-d940-456b81390bdd"
   },
   "outputs": [],
   "source": [
    "X = np.zeros((len(train_set['Sentiment']), 2))\n",
    "for i in range(len(train_set['Sentiment'])):\n",
    "    X[i, :]= extract_features(train_set['OriginalTweet'][i], word_frequencies)\n",
    "\n",
    "print(X)\n",
    "\n",
    "# training labels corresponding to X\n",
    "Y = np.array(train_set['Sentiment'])"
   ]
  },
  {
   "cell_type": "code",
   "execution_count": null,
   "metadata": {
    "colab": {
     "base_uri": "https://localhost:8080/"
    },
    "executionInfo": {
     "elapsed": 143416,
     "status": "ok",
     "timestamp": 1695123920320,
     "user": {
      "displayName": "nagendra matta",
      "userId": "08799621731279141356"
     },
     "user_tz": -330
    },
    "id": "K3fLtpH7O4ef",
    "outputId": "8c0cca5e-f23c-48ef-b2af-4ca17ded0257"
   },
   "outputs": [],
   "source": [
    "# Model\n",
    "model = Sequential()\n",
    "model.add(Dense(4, input_dim=2, activation='relu'))  # Hidden layer with 4 neurons\n",
    "model.add(Dropout(0.2))\n",
    "model.add(Dense(1, activation='sigmoid'))  # Output layer with logistic regression\n",
    "\n",
    "# Compile the model\n",
    "model.compile(loss='binary_crossentropy', optimizer=Adam(lr=0.001), metrics=['accuracy'])\n",
    "\n",
    "# Train the model\n",
    "model.fit(X, Y, epochs=60, batch_size=32)"
   ]
  },
  {
   "cell_type": "code",
   "execution_count": null,
   "metadata": {
    "colab": {
     "base_uri": "https://localhost:8080/",
     "height": 424
    },
    "executionInfo": {
     "elapsed": 13,
     "status": "ok",
     "timestamp": 1695123932289,
     "user": {
      "displayName": "nagendra matta",
      "userId": "08799621731279141356"
     },
     "user_tz": -330
    },
    "id": "CnuFElVFO4lC",
    "outputId": "1e864357-9b6c-4e79-eb06-4350978560e6"
   },
   "outputs": [],
   "source": [
    "test_set=choosingcol(test_set)\n",
    "test_set=reducing_sentiment(test_set)\n",
    "test_set=converting_tonumeric(test_set)\n",
    "test_set=test_set.reset_index(drop=True)\n",
    "test_set"
   ]
  },
  {
   "cell_type": "code",
   "execution_count": null,
   "metadata": {
    "colab": {
     "base_uri": "https://localhost:8080/"
    },
    "executionInfo": {
     "elapsed": 3815,
     "status": "ok",
     "timestamp": 1695123937443,
     "user": {
      "displayName": "nagendra matta",
      "userId": "08799621731279141356"
     },
     "user_tz": -330
    },
    "id": "Db5XWsbcO4od",
    "outputId": "d5ccb1d2-4e6a-4870-8196-dc069600d94f"
   },
   "outputs": [],
   "source": [
    "X_test = np.zeros((len(test_set['Sentiment']), 2))\n",
    "for i in range(len(test_set['Sentiment'])):\n",
    "    X_test[i, :]= extract_features(test_set['OriginalTweet'][i], word_frequencies)\n",
    "print(X_test)"
   ]
  },
  {
   "cell_type": "code",
   "execution_count": null,
   "metadata": {
    "colab": {
     "base_uri": "https://localhost:8080/"
    },
    "executionInfo": {
     "elapsed": 730,
     "status": "ok",
     "timestamp": 1695123939702,
     "user": {
      "displayName": "nagendra matta",
      "userId": "08799621731279141356"
     },
     "user_tz": -330
    },
    "id": "EzLzLESBO4sr",
    "outputId": "4b43e3ff-5c11-45c3-8d5f-8504821b3cf5"
   },
   "outputs": [],
   "source": [
    "y_prob = model.predict(X_test)\n",
    "y_pred = np.round(y_prob).flatten()\n",
    "y_test = test_set['Sentiment'].tolist()\n",
    "\n",
    "# Evaluate the model on the test set\n",
    "accuracy = accuracy_score(y_test, y_pred)\n",
    "precision = precision_score(y_test, y_pred)\n",
    "recall = recall_score(y_test, y_pred)\n",
    "f1 = f1_score(y_test, y_pred)\n",
    "\n",
    "print(f\"Test set accuracy = {accuracy}\")\n",
    "print(f\"Test set precision = {precision}\")\n",
    "print(f\"Test set recall = {recall}\")\n",
    "print(f\"Test set F1 score = {f1}\")"
   ]
  },
  {
   "cell_type": "code",
   "execution_count": null,
   "metadata": {
    "colab": {
     "base_uri": "https://localhost:8080/",
     "height": 573
    },
    "executionInfo": {
     "elapsed": 13,
     "status": "ok",
     "timestamp": 1695123941885,
     "user": {
      "displayName": "nagendra matta",
      "userId": "08799621731279141356"
     },
     "user_tz": -330
    },
    "id": "U1Yz3umjPMMZ",
    "outputId": "b9325018-a5ce-4cef-cc34-9dcfa017b0d5"
   },
   "outputs": [],
   "source": [
    "# Generate the confusion matrix\n",
    "cm = confusion_matrix(y_test, y_pred)\n",
    "\n",
    "# Normalize the confusion matrix\n",
    "cm_norm = cm / np.sum(cm)\n",
    "\n",
    "# Set the figure size\n",
    "plt.figure(figsize=(8, 6))\n",
    "\n",
    "# Create the heatmap\n",
    "plt.imshow(cm_norm, cmap=plt.cm.Blues)\n",
    "plt.xticks([0, 1], ['Negative', 'Positive'])\n",
    "plt.yticks([0, 1], ['Negative', 'Positive'])\n",
    "plt.xlabel('Predicted Labels')\n",
    "plt.ylabel('True Labels')\n",
    "plt.colorbar()\n",
    "\n",
    "# Display the percentages in the plot\n",
    "for i in range(cm_norm.shape[0]):\n",
    "    for j in range(cm_norm.shape[1]):\n",
    "        plt.text(j, i, '{:.1%}'.format(cm_norm[i, j]), ha='center', va='center')\n",
    "\n",
    "# Remove the grid lines\n",
    "plt.grid(False)\n",
    "plt.title('Confusion Matrix')\n",
    "plt.show()\n"
   ]
  },
  {
   "cell_type": "code",
   "execution_count": null,
   "metadata": {
    "colab": {
     "base_uri": "https://localhost:8080/",
     "height": 480
    },
    "executionInfo": {
     "elapsed": 1406,
     "status": "ok",
     "timestamp": 1695123945394,
     "user": {
      "displayName": "nagendra matta",
      "userId": "08799621731279141356"
     },
     "user_tz": -330
    },
    "id": "RV0tiCc8PPmP",
    "outputId": "a0635536-06e2-4950-ef58-96ae170f0a70"
   },
   "outputs": [],
   "source": [
    "# Compute the false positive rate and true positive rate\n",
    "fpr, tpr, thresholds = roc_curve(y_test, y_prob)\n",
    "\n",
    "# Compute the AUC score\n",
    "auc_score = roc_auc_score(y_test, y_prob)\n",
    "\n",
    "# Plot the ROC curve\n",
    "plt.plot(fpr, tpr, label='ROC Curve (AUC = {:.2f})'.format(auc_score))\n",
    "plt.plot([0, 1], [0, 1], 'k--', label='Random Guess')\n",
    "plt.xlabel('False Positive Rate')\n",
    "plt.ylabel('True Positive Rate')\n",
    "plt.title('Receiver Operating Characteristic (ROC) Curve')\n",
    "plt.legend()\n",
    "plt.show()"
   ]
  },
  {
   "cell_type": "code",
   "execution_count": null,
   "metadata": {
    "executionInfo": {
     "elapsed": 492,
     "status": "ok",
     "timestamp": 1695123949718,
     "user": {
      "displayName": "nagendra matta",
      "userId": "08799621731279141356"
     },
     "user_tz": -330
    },
    "id": "Af6xZbVsQq1e"
   },
   "outputs": [],
   "source": []
  }
 ],
 "metadata": {
  "colab": {
   "authorship_tag": "ABX9TyNh1y3VM75IDrkYFB5IVxOm",
   "provenance": []
  },
  "kernelspec": {
   "display_name": "Python 3 (ipykernel)",
   "language": "python",
   "name": "python3"
  },
  "language_info": {
   "codemirror_mode": {
    "name": "ipython",
    "version": 3
   },
   "file_extension": ".py",
   "mimetype": "text/x-python",
   "name": "python",
   "nbconvert_exporter": "python",
   "pygments_lexer": "ipython3",
   "version": "3.11.4"
  }
 },
 "nbformat": 4,
 "nbformat_minor": 1
}
